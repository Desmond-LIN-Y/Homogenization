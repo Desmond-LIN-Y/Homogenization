{
 "cells": [
  {
   "cell_type": "code",
   "execution_count": 2,
   "id": "49eccbc0",
   "metadata": {},
   "outputs": [],
   "source": [
    "import numpy as np\n",
    "from copy import deepcopy\n",
    "from matplotlib import pyplot as plt"
   ]
  },
  {
   "cell_type": "code",
   "execution_count": 4,
   "id": "b34fdab6",
   "metadata": {},
   "outputs": [
    {
     "data": {
      "text/plain": [
       "<matplotlib.image.AxesImage at 0x179aeadf508>"
      ]
     },
     "execution_count": 4,
     "metadata": {},
     "output_type": "execute_result"
    },
    {
     "data": {
      "image/png": "[encoded data removed]",
      "text/plain": [
       "<Figure size 432x288 with 1 Axes>"
      ]
     },
     "metadata": {
      "needs_background": "light"
     },
     "output_type": "display_data"
    }
   ],
   "source": [
    "a = np.array([[[2, 1], [1, 2]], [[3, 2], [2, 3]]])\n",
    "u = np.zeros(shape=(26,26))\n",
    "v = np.zeros(shape=(26,26))\n",
    "\n",
    "def source():\n",
    "    u[12, 12] = 5\n",
    "    u[12, 13] = 5\n",
    "    u[13, 12] = 5\n",
    "    u[13, 13] = 5\n",
    "\n",
    "source()\n",
    "\n",
    "for n in range(1000):\n",
    "    for i in range(1, 25):\n",
    "        for j in range(1, 25):\n",
    "            p=a[(i + j) % 2]\n",
    "            v[i,j] = (p[0, 0] * (u[i + 1, j] + u[i - 1,j]) +\n",
    "                     (p[0, 1] + p[1, 0]) / 4 * (u[i + 1, j + 1] + u[i - 1,j - 1] - u[i + 1,j - 1] - u[i - 1,j + 1]) +\n",
    "                      p[1, 1] * (u[i, j + 1] + u[i, j - 1])) / (2*(p[0, 0]+p[1, 1]))\n",
    "    u = deepcopy(v)\n",
    "    source()\n",
    "\n",
    "#Plots\n",
    "x_values = np.linspace(0, 5, 100)\n",
    "y_values = np.linspace(0, 5, 100)\n",
    "x, y = np.meshgrid(x_values, y_values)\n",
    "plt.imshow(u)"
   ]
  },
  {
   "cell_type": "code",
   "execution_count": 28,
   "id": "9588cd75",
   "metadata": {},
   "outputs": [
    {
     "data": {
      "text/plain": [
       "<matplotlib.image.AxesImage at 0x179b02beac8>"
      ]
     },
     "execution_count": 28,
     "metadata": {},
     "output_type": "execute_result"
    },
    {
     "data": {
      "image/png": "[encoded data removed]",
      "text/plain": [
       "<Figure size 432x288 with 1 Axes>"
      ]
     },
     "metadata": {
      "needs_background": "light"
     },
     "output_type": "display_data"
    }
   ],
   "source": [
    "a = np.array([[[2, 1], [1, 2]], [[3, 2], [2, 3]]])\n",
    "u_old = np.zeros(shape=(26,26))\n",
    "u = np.zeros(shape=(26, 26))\n",
    "v = np.zeros(shape=(26,26))\n",
    "\n",
    "def source():\n",
    "    u[12, 12] = 5\n",
    "    u[12, 13] = 5\n",
    "    u[13, 12] = 5\n",
    "    u[13, 13] = 5\n",
    "\n",
    "source()\n",
    "\n",
    "while np.linalg.norm(u_old-u) > 0.000001:\n",
    "    u_old = u\n",
    "    for i in range(1, 25):\n",
    "        for j in range(1, 25):\n",
    "            p=a[(i + j) % 2]\n",
    "            v[i,j] = (p[0, 0] * (u[i + 1, j] + u[i - 1,j]) +\n",
    "                     (p[0, 1] + p[1, 0]) / 4 * (u[i + 1, j + 1] + u[i - 1,j - 1] - u[i + 1,j - 1] - u[i - 1,j + 1]) +\n",
    "                      p[1, 1] * (u[i, j + 1] + u[i, j - 1])) / (2*(p[0, 0]+p[1, 1]))\n",
    "    u = deepcopy(v)\n",
    "    source()\n",
    "\n",
    "#Plots\n",
    "x_values = np.linspace(0, 5, 100)\n",
    "y_values = np.linspace(0, 5, 100)\n",
    "x, y = np.meshgrid(x_values, y_values)\n",
    "plt.imshow(u)"
   ]
  },
  {
   "cell_type": "code",
   "execution_count": 6,
   "id": "c7dbe87b",
   "metadata": {},
   "outputs": [
    {
     "data": {
      "text/plain": [
       "<matplotlib.image.AxesImage at 0x179aeb7ec08>"
      ]
     },
     "execution_count": 6,
     "metadata": {},
     "output_type": "execute_result"
    },
    {
     "data": {
      "image/png": "[encoded data removed]",
      "text/plain": [
       "<Figure size 432x288 with 1 Axes>"
      ]
     },
     "metadata": {
      "needs_background": "light"
     },
     "output_type": "display_data"
    }
   ],
   "source": [
    "#one instance of random distribution of microstructures\n",
    "a = np.array([[[2, 1], [1, 2]],[[3, 2], [2, 3]]])\n",
    "u = np.zeros(shape=(26,26))\n",
    "v = np.zeros(shape=(26,26))\n",
    "k = np.random.choice([0,1], size=(26,26),p=(0.5,0.5))\n",
    "source()\n",
    "for n in range(100):\n",
    "    for i in range(1, 25):\n",
    "        for j in range(1, 25):\n",
    "            v[i,j] = (a[k[i,j]][0, 0] * (u[i+1, j] + u[i-1,j]) +\n",
    "                     (a[k[i,j]][0, 1] + a[k[i,j]][1, 0]) / 4 * (u[i+1, j+1] + u[i-1,j-1] -u[i+1,j-1]-u[i-1,j+1]) +\n",
    "                      a[k[i,j]][1, 1] * (u[i,j+1] + u[i,j-1])) / (2*(a[k[i,j]][0,0]+a[k[i,j]][1,1]))\n",
    "    u = deepcopy(v)\n",
    "    source()\n",
    "\n",
    "#Plots\n",
    "x_values = np.linspace(0,5,100)\n",
    "y_values = np.linspace(0,5,100)\n",
    "x, y = np.meshgrid(x_values, y_values)\n",
    "plt.imshow(u)"
   ]
  },
  {
   "cell_type": "code",
   "execution_count": 30,
   "id": "3a0e94ee",
   "metadata": {},
   "outputs": [],
   "source": [
    "np.random.seed(1)\n",
    "r = np.zeros(shape=(26, 26))\n",
    "for n in range(100):\n",
    "    a = np.array([[[2, 1], [1, 2]], [[3, 2], [2, 3]]])\n",
    "    u = np.zeros(shape=(26, 26))\n",
    "    u_old = np.zeros(shape=(26, 26))\n",
    "    v = np.zeros(shape=(26, 26))\n",
    "    k = np.random.randint(0, 2, size=(26,26))\n",
    "    source()\n",
    "    while np.linalg.norm(u_old - u) > 0.001:\n",
    "        u_old = u\n",
    "        for i in range(1,25):\n",
    "            for j in range(1,25):\n",
    "                v[i,j] = (a[k[i,j]][0, 0] * (u[i+1, j] + u[i-1,j]) +\n",
    "                         (a[k[i,j]][0, 1] + a[k[i,j]][1, 0]) / 4 * (u[i+1, j+1] + u[i-1,j-1] -u[i+1,j-1]-u[i-1,j+1]) +\n",
    "                          a[k[i,j]][1, 1] * (u[i,j+1] + u[i,j-1])) / (2*(a[k[i,j]][0,0]+a[k[i,j]][1,1]))\n",
    "        u = deepcopy(v)\n",
    "        source()\n",
    "    r = r + u"
   ]
  },
  {
   "cell_type": "code",
   "execution_count": 31,
   "id": "9cf27b3c",
   "metadata": {},
   "outputs": [
    {
     "data": {
      "text/plain": [
       "<matplotlib.image.AxesImage at 0x179af2190c8>"
      ]
     },
     "execution_count": 31,
     "metadata": {},
     "output_type": "execute_result"
    },
    {
     "data": {
      "image/png": "[encoded data removed]",
      "text/plain": [
       "<Figure size 432x288 with 1 Axes>"
      ]
     },
     "metadata": {
      "needs_background": "light"
     },
     "output_type": "display_data"
    }
   ],
   "source": [
    "x_values = np.linspace(0, 5, 100)\n",
    "y_values = np.linspace(0, 5, 100)\n",
    "x, y = np.meshgrid(x_values, y_values)\n",
    "plt.imshow(r / 100)\n"
   ]
  },
  {
   "cell_type": "code",
   "execution_count": 19,
   "id": "84aa6928",
   "metadata": {},
   "outputs": [
    {
     "data": {
      "text/plain": [
       "<matplotlib.image.AxesImage at 0x179aef92ec8>"
      ]
     },
     "execution_count": 19,
     "metadata": {},
     "output_type": "execute_result"
    },
    {
     "data": {
      "image/png": "[encoded data removed]",
      "text/plain": [
       "<Figure size 432x288 with 1 Axes>"
      ]
     },
     "metadata": {
      "needs_background": "light"
     },
     "output_type": "display_data"
    }
   ],
   "source": [
    "import numpy as np\n",
    "from copy import deepcopy\n",
    "from matplotlib import pyplot as plt\n",
    "\n",
    "\n",
    "a = np.array([[[2, 1],[1, 2]], [[3, 2], [2, 3]]])\n",
    "u = np.zeros(shape=(50,50))\n",
    "v = np.zeros(shape=(50,50))\n",
    "def source_2():\n",
    "    u[24, 24] = 10\n",
    "    u[24, 25] = 10\n",
    "    u[25, 24] = 10\n",
    "    u[25, 25] = 10\n",
    "\n",
    "for n in range(1000):\n",
    "    for i in range(1, 49):\n",
    "        for j in range(1, 49):\n",
    "            p=a[(i + j) % 2]\n",
    "            v[i,j] = (p[0, 0] * (u[i+1, j] + u[i-1,j]) +\n",
    "                     (p[0, 1] + p[1, 0]) / 4 * (u[i+1, j+1] + u[i-1,j-1] - u[i+1,j-1] - u[i-1,j+1]) +\n",
    "                      p[1, 1] * (u[i,j+1] + u[i,j-1])) / (2*(p[0,0]+p[1,1]))\n",
    "    u = deepcopy(v)\n",
    "    source_2()\n",
    "\n",
    "#Plots\n",
    "x_values = np.linspace(0,10,100)\n",
    "y_values = np.linspace(0,10,100)\n",
    "x, y = np.meshgrid(x_values, y_values)\n",
    "plt.imshow(u)\n"
   ]
  },
  {
   "cell_type": "code",
   "execution_count": 20,
   "id": "1dd49e3b",
   "metadata": {},
   "outputs": [
    {
     "data": {
      "text/plain": [
       "<matplotlib.image.AxesImage at 0x179aeff3548>"
      ]
     },
     "execution_count": 20,
     "metadata": {},
     "output_type": "execute_result"
    },
    {
     "data": {
      "image/png": "[encoded data removed]",
      "text/plain": [
       "<Figure size 432x288 with 1 Axes>"
      ]
     },
     "metadata": {
      "needs_background": "light"
     },
     "output_type": "display_data"
    }
   ],
   "source": [
    "np.random.seed(1)\n",
    "r = np.zeros(shape=(50,50))\n",
    "for t in range(100):\n",
    "    a = np.array([[[2, 1], [1, 2]], [[3, 2], [2, 3]]])\n",
    "    u = np.zeros(shape=(50,50))\n",
    "    v = np.zeros(shape=(50,50))\n",
    "    k = np.random.randint(0, 2, size=(50, 50))\n",
    "    source_2()\n",
    "    for n in range(1000):\n",
    "        for i in range(1, 49):\n",
    "            for j in range(1, 49):\n",
    "                v[i,j] = (a[k[i,j]][0, 0] * (u[i+1, j] + u[i-1,j]) +\n",
    "                         (a[k[i,j]][0, 1] + a[k[i,j]][1, 0]) / 4 * (u[i+1, j+1] + u[i-1,j-1] -u[i+1,j-1]-u[i-1,j+1]) +\n",
    "                          a[k[i,j]][1, 1] * (u[i,j+1] + u[i,j-1])) / (2*(a[k[i,j]][0,0]+a[k[i,j]][1,1]))\n",
    "        u = deepcopy(v)\n",
    "        source_2()\n",
    "    r = r + u\n",
    "\n",
    "x_values = np.linspace(0,10,100)\n",
    "y_values = np.linspace(0,10,100)\n",
    "x, y = np.meshgrid(x_values, y_values)\n",
    "plt.imshow(r / 100)"
   ]
  },
  {
   "cell_type": "code",
   "execution_count": 21,
   "id": "c9826258",
   "metadata": {},
   "outputs": [
    {
     "data": {
      "text/plain": [
       "<matplotlib.image.AxesImage at 0x179af082248>"
      ]
     },
     "execution_count": 21,
     "metadata": {},
     "output_type": "execute_result"
    },
    {
     "data": {
      "image/png": "[encoded data removed]",
      "text/plain": [
       "<Figure size 432x288 with 1 Axes>"
      ]
     },
     "metadata": {
      "needs_background": "light"
     },
     "output_type": "display_data"
    }
   ],
   "source": [
    "# One instance of random\n",
    "np.random.seed(1)\n",
    "\n",
    "a = np.array([[[2, 1], [1, 2]], [[3, 2], [2, 3]]])\n",
    "u = np.zeros(shape=(50,50))\n",
    "v = np.zeros(shape=(50,50))\n",
    "k = np.random.randint(0, 2, size=(50, 50))\n",
    "source_2()\n",
    "for n in range(1000):\n",
    "    for i in range(1, 49):\n",
    "        for j in range(1, 49):\n",
    "            v[i,j] = (a[k[i,j]][0, 0] * (u[i+1, j] + u[i-1,j]) +\n",
    "                     (a[k[i,j]][0, 1] + a[k[i,j]][1, 0]) / 4 * (u[i+1, j+1] + u[i-1,j-1] -u[i+1,j-1]-u[i-1,j+1]) +\n",
    "                      a[k[i,j]][1, 1] * (u[i,j+1] + u[i,j-1])) / (2*(a[k[i,j]][0,0]+a[k[i,j]][1,1]))\n",
    "    u = deepcopy(v)\n",
    "    source_2()\n",
    "\n",
    "\n",
    "x_values = np.linspace(0,10,100)\n",
    "y_values = np.linspace(0,10,100)\n",
    "x, y = np.meshgrid(x_values, y_values)\n",
    "plt.imshow(u)"
   ]
  },
  {
   "cell_type": "code",
   "execution_count": 16,
   "id": "e74dcb06",
   "metadata": {},
   "outputs": [
    {
     "data": {
      "text/plain": [
       "<matplotlib.image.AxesImage at 0x179aedfc0c8>"
      ]
     },
     "execution_count": 16,
     "metadata": {},
     "output_type": "execute_result"
    },
    {
     "data": {
      "image/png": "[encoded data removed]",
      "text/plain": [
       "<Figure size 432x288 with 1 Axes>"
      ]
     },
     "metadata": {
      "needs_background": "light"
     },
     "output_type": "display_data"
    }
   ],
   "source": [
    "import numpy as np\n",
    "from copy import deepcopy\n",
    "from matplotlib import pyplot as plt\n",
    "\n",
    "\n",
    "a = np.array([[[2, 1],[1, 2]], [[3, 2], [2, 3]]])\n",
    "u = np.zeros(shape=(100, 100))\n",
    "v = np.zeros(shape=(100, 100))\n",
    "def source_3():\n",
    "    u[49, 49] = 10\n",
    "    u[49, 50] = 10\n",
    "    u[50, 49] = 10\n",
    "    u[50, 50] = 10\n",
    "\n",
    "for n in range(1000):\n",
    "    for i in range(1, 99):\n",
    "        for j in range(1, 99):\n",
    "            p=a[(i + j) % 2]\n",
    "            v[i,j] = (p[0, 0] * (u[i+1, j] + u[i-1,j]) +\n",
    "                     (p[0, 1] + p[1, 0]) / 4 * (u[i+1, j+1] + u[i-1,j-1] - u[i+1,j-1] - u[i-1,j+1]) +\n",
    "                      p[1, 1] * (u[i,j+1] + u[i,j-1])) / (2*(p[0,0]+p[1,1]))\n",
    "    u = deepcopy(v)\n",
    "    source_3()\n",
    "\n",
    "#Plots\n",
    "x_values = np.linspace(0,10,100)\n",
    "y_values = np.linspace(0,10,100)\n",
    "x, y = np.meshgrid(x_values, y_values)\n",
    "plt.imshow(u)"
   ]
  },
  {
   "cell_type": "code",
   "execution_count": 18,
   "id": "06f6f5fd",
   "metadata": {},
   "outputs": [
    {
     "data": {
      "text/plain": [
       "<matplotlib.image.AxesImage at 0x179aef22988>"
      ]
     },
     "execution_count": 18,
     "metadata": {},
     "output_type": "execute_result"
    },
    {
     "data": {
      "image/png": "[encoded data removed]",
      "text/plain": [
       "<Figure size 432x288 with 1 Axes>"
      ]
     },
     "metadata": {
      "needs_background": "light"
     },
     "output_type": "display_data"
    }
   ],
   "source": [
    "# One instance of random\n",
    "np.random.seed(1)\n",
    "\n",
    "a = np.array([[[2, 1], [1, 2]], [[3, 2], [2, 3]]])\n",
    "u = np.zeros(shape=(100,100))\n",
    "v = np.zeros(shape=(100,100))\n",
    "k = np.random.randint(0, 2, size=(100, 100))\n",
    "source_3()\n",
    "for n in range(100):\n",
    "    for i in range(1, 99):\n",
    "        for j in range(1, 99):\n",
    "            v[i,j] = (a[k[i,j]][0, 0] * (u[i+1, j] + u[i-1,j]) +\n",
    "                     (a[k[i,j]][0, 1] + a[k[i,j]][1, 0]) / 4 * (u[i+1, j+1] + u[i-1,j-1] -u[i+1,j-1]-u[i-1,j+1]) +\n",
    "                      a[k[i,j]][1, 1] * (u[i,j+1] + u[i,j-1])) / (2*(a[k[i,j]][0,0]+a[k[i,j]][1,1]))\n",
    "    u = deepcopy(v)\n",
    "    source_3()\n",
    "\n",
    "\n",
    "x_values = np.linspace(0,10,100)\n",
    "y_values = np.linspace(0,10,100)\n",
    "x, y = np.meshgrid(x_values, y_values)\n",
    "plt.imshow(u)"
   ]
  },
  {
   "cell_type": "code",
   "execution_count": null,
   "id": "82da3b59",
   "metadata": {},
   "outputs": [],
   "source": []
  }
 ],
 "metadata": {
  "kernelspec": {
   "display_name": "Python 3",
   "language": "python",
   "name": "python3"
  },
  "language_info": {
   "codemirror_mode": {
    "name": "ipython",
    "version": 3
   },
   "file_extension": ".py",
   "mimetype": "text/x-python",
   "name": "python",
   "nbconvert_exporter": "python",
   "pygments_lexer": "ipython3",
   "version": "3.7.11"
  }
 },
 "nbformat": 4,
 "nbformat_minor": 5
}
