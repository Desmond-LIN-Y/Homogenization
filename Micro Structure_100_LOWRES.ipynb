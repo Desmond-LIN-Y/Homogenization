{
 "cells": [
  {
   "cell_type": "markdown",
   "metadata": {},
   "source": [
    "\n",
    "Aim of this part is to verfy homogenization by comparing solution obatined by homogenization and solution obtained by numerical calculation.\n",
    "\n",
    "Two different works are presented here. One is by Desmond Lin using finite different scheme on original Equation, another by Ziang Yan using \"Kirchhoff's current law\" under the assumption that the composite behave in a similar way to \"Resistor Network\".\n",
    "\n",
    "The work presented in this notebook is a DRAFT of later simulation.\n",
    "\n"
   ]
  },
  {
   "cell_type": "code",
   "execution_count": 95,
   "metadata": {},
   "outputs": [],
   "source": [
    "# Imports\n",
    "import numpy as np\n",
    "from copy import deepcopy\n",
    "from matplotlib import pyplot as plt"
   ]
  },
  {
   "cell_type": "code",
   "execution_count": 96,
   "metadata": {},
   "outputs": [],
   "source": [
    "# Global Settings\n",
    "\n",
    "# Dimension of simulation\n",
    "dim=101\n",
    "\n",
    "# We assume two material exists, one with resistance 1, another decided by variable res_2\n",
    "res_2=10\n",
    "grid=np.zeros((dim,dim))\n",
    "center=int((dim-1)/2)\n",
    "grid[center,center]=6000\n",
    "\n",
    "num_iter=5"
   ]
  },
  {
   "cell_type": "code",
   "execution_count": 97,
   "metadata": {},
   "outputs": [],
   "source": [
    "# Functions\n",
    "def coefs(i,j,res=res_2):\n",
    "    '''\n",
    "    # RU arrow\n",
    "    if (i+j)%2==0:\n",
    "        #up,left,down,right\n",
    "        return (1,1,res,res)\n",
    "    else:\n",
    "        return (res,res,1,1)\n",
    "        '''\n",
    "    # LU arrow\n",
    "    if (i+j)%2==0:\n",
    "        #up,left,down,right\n",
    "        return (1,res,res,1)\n",
    "    else:\n",
    "        return (res,1,1,res)\n",
    "\n",
    "def update(i,j):\n",
    "    #gives updated value of i,j point\n",
    "    up=grid[i-1,j]\n",
    "    left=grid[i,j-1]\n",
    "    down=grid[i+1,j]\n",
    "    right=grid[i,j+1]\n",
    "    co=coefs(i,j)\n",
    "    val=(\n",
    "        up*co[1]*co[2]*co[3]\n",
    "        +left*co[0]*co[2]*co[3]\n",
    "        +down*co[0]*co[1]*co[3]\n",
    "        +right*co[0]*co[1]*co[2]\n",
    "    )/(\n",
    "        co[1]*co[2]*co[3]\n",
    "        +co[0]*co[2]*co[3]\n",
    "        +co[0]*co[1]*co[3]\n",
    "        +co[0]*co[1]*co[2]\n",
    "        )\n",
    "\n",
    "    return val"
   ]
  },
  {
   "cell_type": "code",
   "execution_count": 98,
   "metadata": {},
   "outputs": [],
   "source": [
    "newgrid=deepcopy(grid)\n",
    "for time in range(num_iter):\n",
    "    for i in range(1,dim-1):\n",
    "        for j in range(1,dim-1):\n",
    "            newgrid[i,j]=update(i,j)\n",
    "    newgrid[center,center]=grid[center,center]\n",
    "    grid=deepcopy(newgrid)\n",
    "\n",
    "\n",
    "\n",
    "#a=[i for i in range(dim)]\n",
    "#x,y=np.meshgrid(a,a)\n",
    "#plt.matshow(grid, cmap=plt.cm.gray)\n",
    "#plt.show()\n",
    "\n",
    "x_values = np.linspace(0,10,100)\n",
    "y_values = np.linspace(0,10,100)\n",
    "x, y = np.meshgrid(x_values, y_values)\n"
   ]
  },
  {
   "cell_type": "code",
   "execution_count": 99,
   "metadata": {},
   "outputs": [
    {
     "data": {
      "text/plain": [
       "<matplotlib.image.AxesImage at 0x24e2e296430>"
      ]
     },
     "execution_count": 99,
     "metadata": {},
     "output_type": "execute_result"
    },
    {
     "data": {
      "image/png": "[encoded data removed]",
      "text/plain": [
       "<Figure size 432x288 with 1 Axes>"
      ]
     },
     "metadata": {
      "needs_background": "light"
     },
     "output_type": "display_data"
    }
   ],
   "source": [
    "plt.imshow(grid)"
   ]
  },
  {
   "cell_type": "code",
   "execution_count": 100,
   "metadata": {},
   "outputs": [
    {
     "data": {
      "text/plain": [
       "<matplotlib.image.AxesImage at 0x24e2cf3ec40>"
      ]
     },
     "execution_count": 100,
     "metadata": {},
     "output_type": "execute_result"
    },
    {
     "data": {
      "image/png": "[encoded data removed]",
      "text/plain": [
       "<Figure size 432x288 with 1 Axes>"
      ]
     },
     "metadata": {
      "needs_background": "light"
     },
     "output_type": "display_data"
    }
   ],
   "source": [
    "# To get better view scale the value by taking power of 0.1\n",
    "plt.imshow(grid**0.8)"
   ]
  },
  {
   "cell_type": "markdown",
   "metadata": {},
   "source": [
    "# Discussion on plots\n",
    "The graph indicates that voltage is relatively higher on topleft-bottomright diagonal. This is due to the regular format of small lattices in microsopic structure. This indicates that the composites have relatively lower resistance on this direction. On direction of another diagobal resistance is larger. This matches(??????? still need verification by analytic solution) the results by homogenization."
   ]
  },
  {
   "cell_type": "markdown",
   "metadata": {},
   "source": [
    "# KCL\n",
    "Here is a short explanation on the Mathematics used in algorithm, a version of KCL.\n",
    "\n",
    "If we assume voltage to be $x$ at node $A_{ij}$ and $V_1,V_2,V_3,V_4$ on its adjacents with resistor between them $R_1,R_2,R_3,R_4$, we have following equation:\n",
    "$$\n",
    "\\frac{x-V_1}{R_1}+\\frac{x-V_2}{R_2}+\\frac{x-V_3}{R_3}+\\frac{x-V_4}{R_4}=0\n",
    "$$\n",
    "\n"
   ]
  },
  {
   "cell_type": "markdown",
   "metadata": {},
   "source": [
    "Rearrange to get\n",
    "\n",
    "$$\n",
    "x(R_1 R_2 R_3 +R_1 R_2 R_4+R_1 R_3 R_4+R_2 R_3 R_4)=\\\\\n",
    "V_1(R_2 R_3 R_4)+\n",
    "V_2(R_1 R_3 R_4)+\n",
    "V_3(R_1 R_2 R_4)+\n",
    "V_4(R_1 R_2 R_3)\n",
    "$$"
   ]
  },
  {
   "cell_type": "markdown",
   "metadata": {},
   "source": [
    "Hence\n",
    "$$\n",
    "x=\\frac{V_1(R_2 R_3 R_4)+\n",
    "V_2(R_1 R_3 R_4)+\n",
    "V_3(R_1 R_2 R_4)+\n",
    "V_4(R_1 R_2 R_3)}{(R_1 R_2 R_3 +R_1 R_2 R_4+R_1 R_3 R_4+R_2 R_3 R_4)}\n",
    "$$"
   ]
  }
 ],
 "metadata": {
  "interpreter": {
   "hash": "d49534aeac570b8c1ff5aad96999749827b7ba0dffb6e4219914503286213fd0"
  },
  "kernelspec": {
   "display_name": "Python 3.8.6 64-bit",
   "language": "python",
   "name": "python3"
  },
  "language_info": {
   "codemirror_mode": {
    "name": "ipython",
    "version": 3
   },
   "file_extension": ".py",
   "mimetype": "text/x-python",
   "name": "python",
   "nbconvert_exporter": "python",
   "pygments_lexer": "ipython3",
   "version": "3.8.6"
  },
  "orig_nbformat": 4
 },
 "nbformat": 4,
 "nbformat_minor": 2
}
